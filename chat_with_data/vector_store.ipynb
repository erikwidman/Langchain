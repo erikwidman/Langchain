{
 "cells": [
  {
   "cell_type": "code",
   "execution_count": 181,
   "id": "f53ce180",
   "metadata": {},
   "outputs": [],
   "source": [
    "import os\n",
    "import credentials\n",
    "\n",
    "#set environment variable for OpenAI API Key\n",
    "os.environ[\"OPENAI_API_KEY\"] = credentials.llm_api_key"
   ]
  },
  {
   "cell_type": "markdown",
   "id": "3dbee247",
   "metadata": {},
   "source": [
    "## Load PDFs from PhD"
   ]
  },
  {
   "cell_type": "code",
   "execution_count": 182,
   "id": "90642e12",
   "metadata": {},
   "outputs": [],
   "source": [
    "from langchain.document_loaders import PyPDFLoader\n",
    "\n",
    "#Load research paper https://scholar.google.com/scholar?hl=en&as_sdt=0%2C14&q=erik+widman&btnG=#:~:text=Shear%20wave%20elastography%20plaque%20characterization%20with%20mechanical%20testing%20validation%3A%20a%20phantom%20study\n",
    "loader = PyPDFLoader(\"Widman_2015_Phys._Med._Biol._60_3151.pdf\")\n",
    "paper_1 = loader.load()"
   ]
  },
  {
   "cell_type": "code",
   "execution_count": 183,
   "id": "572f443f",
   "metadata": {},
   "outputs": [
    {
     "name": "stdout",
     "output_type": "stream",
     "text": [
      "Physics in Medicine & Biology\n",
      "      \n",
      "PAPER • OPEN ACCESS\n",
      "Shear wave elastography plaque characterization\n",
      "with mechanical testing validation: a phantom\n",
      "study\n",
      "To cite this article: E Widman et al 2015 Phys. Med. Biol.  60 3151 \n",
      " \n",
      "View the article online  for updates and enhancements. You may also like \n",
      "Atherosclerotic carotid bifurcation \n",
      "phantoms with stenotic soft inclusions for \n",
      "ultrasound flow and vessel wall \n",
      "elastography imaging \n",
      "Boris Chayer, Marcel van den Hoven, \n",
      "Marie-Hélène Roy Cardinal et al. -\n",
      "Arterial waveguide model for shear wave \n",
      "elastography: implementation and  in vitro \n",
      "validation \n",
      "Ali Vaziri Astaneh, Matthew W Urban, \n",
      "Wilkins Aquino et al. -\n",
      "Safety of arterial shear wave \n",
      "elastography– ex–vivo assessment of \n",
      "induced strain and strain rates \n",
      "Tim Nordenfur, Kenneth Caidahl, Dmitry \n",
      "Grishenkov et al. -\n",
      " \n",
      "This content was downloaded from IP address 73.72.56.6 on 10/07/2023 at 20:44\n"
     ]
    }
   ],
   "source": [
    "#Let's look at a page\n",
    "page = paper_1[0]\n",
    "print(page.page_content)"
   ]
  },
  {
   "cell_type": "code",
   "execution_count": 184,
   "id": "7058e310",
   "metadata": {},
   "outputs": [],
   "source": [
    "#Load paper from https://www.umbjournal.org/article/S0301-5629(16)30107-7/fulltext\n",
    "loader = PyPDFLoader(\"PIIS0301562916301077.pdf\")\n",
    "paper_2 = loader.load()\n",
    "\n",
    "#Load paper from https://www.umbjournal.org/article/S0301-5629(16)30107-7/fulltext\n",
    "loader = PyPDFLoader(\"PIIS0301562915005220.pdf\")\n",
    "paper_3 = loader.load()\n",
    "\n",
    "#Load paper from https://www.umbjournal.org/article/S0301-5629(16)30107-7/fulltext\n",
    "loader = PyPDFLoader(\"PIIS0301562915005220.pdf\")\n",
    "paper_4 = loader.load()"
   ]
  },
  {
   "cell_type": "markdown",
   "id": "298b5d3d",
   "metadata": {},
   "source": [
    "## Split the data (Chunking)"
   ]
  },
  {
   "cell_type": "code",
   "execution_count": 185,
   "id": "026eca78",
   "metadata": {},
   "outputs": [],
   "source": [
    "from langchain.text_splitter import RecursiveCharacterTextSplitter, CharacterTextSplitter"
   ]
  },
  {
   "cell_type": "code",
   "execution_count": 186,
   "id": "2572204d",
   "metadata": {},
   "outputs": [],
   "source": [
    "c_splitter = CharacterTextSplitter(\n",
    "    chunk_size=450,\n",
    "    chunk_overlap=0,\n",
    "    separator = ' '\n",
    ")\n",
    "\n",
    "#Recursivesplitter is recommended for general texts\n",
    "r_splitter = RecursiveCharacterTextSplitter(\n",
    "    chunk_size=2000,\n",
    "    chunk_overlap=200, \n",
    "    separators=[\"\\n\\n\", \"\\n\", \" \", \"\"]\n",
    ")"
   ]
  },
  {
   "cell_type": "code",
   "execution_count": 187,
   "id": "f6c36ba1",
   "metadata": {},
   "outputs": [],
   "source": [
    " paper_1_chunks = r_splitter.split_documents(paper_1)"
   ]
  },
  {
   "cell_type": "code",
   "execution_count": 188,
   "id": "66bd9761",
   "metadata": {},
   "outputs": [
    {
     "name": "stdout",
     "output_type": "stream",
     "text": [
      "Original # of documents 25.\n",
      "New # of documents 55.\n"
     ]
    }
   ],
   "source": [
    "org_l = len(paper_1)\n",
    "new_l = len(paper_1_chunks)\n",
    "print(f\"Original # of documents {org_l}.\\nNew # of documents {new_l}.\")"
   ]
  },
  {
   "cell_type": "code",
   "execution_count": 189,
   "id": "5b9e7374",
   "metadata": {},
   "outputs": [
    {
     "data": {
      "text/plain": [
       "Document(page_content='In current clinical practice, ultrasound duplex scanning is typically the first level of screen-\\ning for atherosclerotic plaques (Saba et al 2012). The degree of stenosis typically has been \\nconsidered the parameter of choice to determine the therapeutic approach (Barnett et al 1998), \\nbut several investigations (Naghavi et al 2003a, 2003b, Schwarz et al 2013) have demon-\\nstrated that the degree of luminal stenosis is only an indirect indicator of the atherosclerotic process and that direct assessment of the plaque structure and composition may be key to predict the development of future cerebrovascular ischemic events. Moreover, it is critical to characterize plaques to determine the most suitable treatment (endarterectomy, angioplasty, or medication) for the patient.\\nCurrently, clinical non-invasive ultrasound-based methods for plaque characterization are \\nlimited to visual assessment of plaque morphology, hypoechoic area, and echo reflection in the plaque (Gray-Weale et al 1988, Kakkos et al 2013). There have been quantitative plaque \\ncharacterization attempts by grey-scale median (GSM) measurements of the plaque (Biasi  \\net al 1999, Kanber et al 2013, Salem et al 2013) as well as using contrast-enhanced ultrasound \\nimaging in combination with Tissue Doppler imaging (Deyama et al 2013), however both \\ntechniques suffer from various limitations. Thermal Strain Imaging (TSI) has also been used in vivo to detect lipids in atherosclerotic plaques in the femoral arteries of rabbits (Mahmoud et al 2013) but the technique is not ready for clinical use. A promising technique to character -\\nize plaque is by measuring the plaque strain throughout the cardiac cycle via block matching speckle tracking techniques on B-mode images (Shi et al 2008, Widman et al 2015). Small \\nsuccessful in vivo pilot studies have been conducted, but more data is needed from a larger', metadata={'source': 'Widman_2015_Phys._Med._Biol._60_3151.pdf', 'page': 2})"
      ]
     },
     "execution_count": 189,
     "metadata": {},
     "output_type": "execute_result"
    }
   ],
   "source": [
    "#Manually review a few chunks and make sure they look good.\n",
    "paper_1_chunks[4]"
   ]
  },
  {
   "cell_type": "markdown",
   "id": "93413edf",
   "metadata": {},
   "source": [
    "Let's do the same chunking on the other papers."
   ]
  },
  {
   "cell_type": "code",
   "execution_count": 190,
   "id": "f7f8d897",
   "metadata": {},
   "outputs": [],
   "source": [
    "paper_2_chunks = r_splitter.split_documents(paper_2)\n",
    "paper_3_chunks = r_splitter.split_documents(paper_3)\n",
    "paper_4_chunks = r_splitter.split_documents(paper_4)"
   ]
  },
  {
   "cell_type": "markdown",
   "id": "f451d4b5",
   "metadata": {},
   "source": [
    "Add all the chunks together to a large list of chunks."
   ]
  },
  {
   "cell_type": "code",
   "execution_count": 191,
   "id": "ab39699f",
   "metadata": {},
   "outputs": [
    {
     "data": {
      "text/plain": [
       "169"
      ]
     },
     "execution_count": 191,
     "metadata": {},
     "output_type": "execute_result"
    }
   ],
   "source": [
    "chunks = paper_1_chunks + paper_2_chunks + paper_3_chunks + paper_4_chunks\n",
    "len(chunks)"
   ]
  },
  {
   "cell_type": "code",
   "execution_count": 192,
   "id": "e0872590",
   "metadata": {},
   "outputs": [
    {
     "data": {
      "text/plain": [
       "169"
      ]
     },
     "execution_count": 192,
     "metadata": {},
     "output_type": "execute_result"
    }
   ],
   "source": [
    "#Another way of adding the chunks together\n",
    "\n",
    "chunks_2 = []\n",
    "chunks_2.extend(paper_1_chunks)\n",
    "chunks_2.extend(paper_2_chunks)\n",
    "chunks_2.extend(paper_3_chunks)\n",
    "chunks_2.extend(paper_4_chunks)\n",
    "\n",
    "len(chunks_2)"
   ]
  },
  {
   "cell_type": "markdown",
   "id": "e72466d5",
   "metadata": {},
   "source": [
    "## Convert Chunks to Embeddings"
   ]
  },
  {
   "cell_type": "code",
   "execution_count": 193,
   "id": "c681bfa5",
   "metadata": {},
   "outputs": [],
   "source": [
    "from langchain.embeddings.openai import OpenAIEmbeddings\n",
    "embedding = OpenAIEmbeddings()"
   ]
  },
  {
   "cell_type": "code",
   "execution_count": 194,
   "id": "f89634ec",
   "metadata": {},
   "outputs": [],
   "source": [
    "from langchain.vectorstores import Chroma"
   ]
  },
  {
   "cell_type": "code",
   "execution_count": 195,
   "id": "88e7b45c",
   "metadata": {},
   "outputs": [],
   "source": [
    "persist_directory = 'documents/Machine Learning Projects/Langchain/chat_with_data/chroma/'"
   ]
  },
  {
   "cell_type": "code",
   "execution_count": 196,
   "id": "c37a519b",
   "metadata": {},
   "outputs": [],
   "source": [
    "!rm -rf ./documents/Machine Learning Projects/Langchain/chat_with_data/chroma # remove old database files if any"
   ]
  },
  {
   "cell_type": "code",
   "execution_count": 197,
   "id": "d6c1f79c",
   "metadata": {},
   "outputs": [],
   "source": [
    "vectordb = Chroma.from_documents(\n",
    "    documents=chunks_2,\n",
    "    embedding=embedding,\n",
    "    persist_directory=persist_directory\n",
    ")"
   ]
  },
  {
   "cell_type": "code",
   "execution_count": 198,
   "id": "f5d0c747",
   "metadata": {},
   "outputs": [
    {
     "name": "stdout",
     "output_type": "stream",
     "text": [
      "169\n"
     ]
    }
   ],
   "source": [
    "print(vectordb._collection.count())"
   ]
  },
  {
   "cell_type": "markdown",
   "id": "7317a5d7",
   "metadata": {},
   "source": [
    "#### Try querying the data"
   ]
  },
  {
   "cell_type": "code",
   "execution_count": 222,
   "id": "72be3046",
   "metadata": {},
   "outputs": [],
   "source": [
    "#question = \"How do I mechanically measure the shear modulus?\"\n",
    "#question = \"What's the cause of plaque formation in the arteries?\"\n",
    "question = \"How can Shear wave elastography be used to characterize arterial plaque?\""
   ]
  },
  {
   "cell_type": "code",
   "execution_count": 223,
   "id": "f2a098e3",
   "metadata": {},
   "outputs": [],
   "source": [
    "#Find relevant docs for question\n",
    "docs = vectordb.similarity_search(question, k = 5)"
   ]
  },
  {
   "cell_type": "code",
   "execution_count": 224,
   "id": "5a5e01f5",
   "metadata": {},
   "outputs": [
    {
     "name": "stdout",
     "output_type": "stream",
     "text": [
      "Physics in Medicine & Biology\n",
      "      \n",
      "PAPER • OPEN ACCESS\n",
      "Shear wave elastography plaque characterization\n",
      "with mechanical testing validation: a phantom\n",
      "study\n",
      "To cite this article: E Widman et al 2015 Phys. Med. Biol.  60 3151 \n",
      " \n",
      "View the article online  for updates and enhancements. You may also like \n",
      "Atherosclerotic carotid bifurcation \n",
      "phantoms with stenotic soft inclusions for \n",
      "ultrasound flow and vessel wall \n",
      "elastography imaging \n",
      "Boris Chayer, Marcel van den Hoven, \n",
      "Marie-Hélène Roy Cardinal et al. -\n",
      "Arterial waveguide model for shear wave \n",
      "elastography: implementation and  in vitro \n",
      "validation \n",
      "Ali Vaziri Astaneh, Matthew W Urban, \n",
      "Wilkins Aquino et al. -\n",
      "Safety of arterial shear wave \n",
      "elastography– ex–vivo assessment of \n",
      "induced strain and strain rates \n",
      "Tim Nordenfur, Kenneth Caidahl, Dmitry \n",
      "Grishenkov et al. -\n",
      " \n",
      "This content was downloaded from IP address 73.72.56.6 on 10/07/2023 at 20:44\n"
     ]
    }
   ],
   "source": [
    "print(docs[1].page_content)"
   ]
  },
  {
   "cell_type": "code",
   "execution_count": 225,
   "id": "b76d430a",
   "metadata": {},
   "outputs": [],
   "source": [
    "#Here's a similarity search that also returns a relevance score in the metadata. You can use this to filter the returned document for the most relevant data\n",
    "docs = vectordb.similarity_search_with_relevance_scores(question, k=5)"
   ]
  },
  {
   "cell_type": "code",
   "execution_count": 226,
   "id": "50c0acbd",
   "metadata": {},
   "outputs": [
    {
     "name": "stdout",
     "output_type": "stream",
     "text": [
      "(Document(page_content='It has been suggested that assessment of the mechanical\\nproperties of plaques to determine plaque vulnerabilitywould be a better measure than visual assessment of the\\ndegree of lumen stenosis. Thus, accurate quantitative\\ntechniques for characterization of mechanical properties\\nof plaques are needed.\\nMany attempts have been made to use ultrasound-\\nbased methods to characterize plaque composition, such\\nas gray-scale median ( Kanber et al. 2013 ), contrast-\\nenhanced ultrasound imaging ( Muller et al. 2014 ), strain\\nimaging by speckle tracking ( Widman et al. 2015a ), ther-\\nmal strain imaging ( Mahmoud et al. 2013 ), intravascular\\nultrasound elastography ( Zhang et al. 2011 ) and acoustic\\nradiation force impulse (ARFI) imaging ( Allen et al.\\n2011; Czernuszewicz et al. 2015 ), but these techniques\\nhave various technical limitations (high variability) or\\nsuffer from conﬂicting studies of effectiveness and are\\nnot part of clinical practice. Shear wave elastography(SWE) has been reported to be reproducible for in vivo\\nplaque stiffness measurements ( Ramnarine et al. 2014 )\\nand to accurately measure the stiffness of simulated pla-ques in a phantom setup compared with mechanical\\ntesting ( Widman et al. 2015b ). Therefore, SWE has the\\npotential to assess plaque vulnerability in a clinicalsetting in the future.\\nElasticity imaging in the determination of tissue\\nstiffness has become more common in recent years.\\nSWE uses the shear modulus of the tissue as the imaging\\ncontrast mechanism. In SWE, an acoustic radiation force(ARF) push non-invasively generates shear waves in the\\ntissue, while ultrasonic methods are used to measure\\nthe shear wave propagation speed. The technique hasbeen applied in breast ( Tanter et al. 2008 ), liver ( Muller\\net al. 2009 ), thyroid ( Mehrmohammadi et al. 2015 ), mus-\\ncle (Gennisson et al. 2010 ), kidney ( Gennisson et al.\\n2012 ), arterial wall ( Couade et al. 2010 ) and myocardium\\n(Song et al. 2013; Vejdani-Jahromi et al. 2015 ), where it', metadata={'source': 'PIIS0301562916301077.pdf', 'page': 1}), 0.2151278406381607)\n"
     ]
    }
   ],
   "source": [
    "print(docs[4])"
   ]
  },
  {
   "cell_type": "markdown",
   "id": "e0fbb7e7",
   "metadata": {},
   "source": [
    "## Query documents with LLM"
   ]
  },
  {
   "cell_type": "code",
   "execution_count": 227,
   "id": "a9120b00",
   "metadata": {},
   "outputs": [],
   "source": [
    "from langchain.chains import RetrievalQA\n",
    "\n",
    "#load LLM\n",
    "from langchain.chat_models import ChatOpenAI\n",
    "llm_name = \"gpt-3.5-turbo\"\n",
    "llm = ChatOpenAI(model_name=llm_name, temperature=0)"
   ]
  },
  {
   "cell_type": "code",
   "execution_count": 228,
   "id": "b60ab4a4",
   "metadata": {},
   "outputs": [],
   "source": [
    "qa_chain = RetrievalQA.from_chain_type(llm, retriever=vectordb.as_retriever())"
   ]
  },
  {
   "cell_type": "code",
   "execution_count": 229,
   "id": "5fedd72e",
   "metadata": {},
   "outputs": [],
   "source": [
    "result = qa_chain({\"query\": question})"
   ]
  },
  {
   "cell_type": "code",
   "execution_count": 230,
   "id": "afd3b310",
   "metadata": {},
   "outputs": [
    {
     "data": {
      "text/plain": [
       "'Shear wave elastography (SWE) is an emerging imaging modality that uses the shear modulus of tissue as the contrast mechanism in images. SWE uses ultrasound radiation force to non-invasively generate shear waves in the tissue and ultrasonic tracking methods measure the shear wave propagation speed, which is directly proportional to the material properties. In the case of arterial plaque, SWE can be used to measure the shear modulus of the plaque, which provides information about its stiffness. This can help in characterizing the plaque and determining its vulnerability. By comparing the shear modulus of the plaque to that of the surrounding tissue, SWE can provide quantitative information about the plaque composition and help in selecting the most suitable treatment for patients with carotid plaques.'"
      ]
     },
     "execution_count": 230,
     "metadata": {},
     "output_type": "execute_result"
    }
   ],
   "source": [
    "result[\"result\"]"
   ]
  },
  {
   "cell_type": "markdown",
   "id": "360573b9",
   "metadata": {},
   "source": [
    "# Chatbot\n",
    "See class 6 of Langchain chat with your data for Chatbot UI implementation + adding memory to LLM."
   ]
  },
  {
   "cell_type": "code",
   "execution_count": null,
   "id": "a226e9e3",
   "metadata": {},
   "outputs": [],
   "source": []
  }
 ],
 "metadata": {
  "kernelspec": {
   "display_name": "Python 3 (ipykernel)",
   "language": "python",
   "name": "python3"
  },
  "language_info": {
   "codemirror_mode": {
    "name": "ipython",
    "version": 3
   },
   "file_extension": ".py",
   "mimetype": "text/x-python",
   "name": "python",
   "nbconvert_exporter": "python",
   "pygments_lexer": "ipython3",
   "version": "3.10.9"
  }
 },
 "nbformat": 4,
 "nbformat_minor": 5
}
